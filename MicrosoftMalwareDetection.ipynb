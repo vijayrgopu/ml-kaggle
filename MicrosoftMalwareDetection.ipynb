{
  "nbformat": 4,
  "nbformat_minor": 0,
  "metadata": {
    "colab": {
      "name": "MicrosoftMalwareDetection.ipynb",
      "version": "0.3.2",
      "provenance": [],
      "collapsed_sections": [],
      "include_colab_link": true
    },
    "kernelspec": {
      "name": "python3",
      "display_name": "Python 3"
    },
    "accelerator": "GPU"
  },
  "cells": [
    {
      "cell_type": "markdown",
      "metadata": {
        "id": "view-in-github",
        "colab_type": "text"
      },
      "source": [
        "<a href=\"https://colab.research.google.com/github/vijayrgopu/ml-kaggle/blob/master/MicrosoftMalwareDetection.ipynb\" target=\"_parent\"><img src=\"https://colab.research.google.com/assets/colab-badge.svg\" alt=\"Open In Colab\"/></a>"
      ]
    },
    {
      "metadata": {
        "id": "2KC9_o_Z9J5Z",
        "colab_type": "text"
      },
      "cell_type": "markdown",
      "source": [
        "# **Microsoft Malware Detection**\n",
        "\n",
        "https://www.kaggle.com/c/microsoft-malware-prediction"
      ]
    },
    {
      "metadata": {
        "id": "CCaCMZ46en7d",
        "colab_type": "code",
        "colab": {}
      },
      "cell_type": "code",
      "source": [
        "import os\n",
        "import pandas as pd\n",
        "import seaborn as sns\n",
        "import numpy as np\n",
        "import matplotlib.pyplot as plt\n",
        "%matplotlib inline\n",
        "import missingno.missingno as ms\n",
        "import lightgbm as lgb \n",
        "import gc"
      ],
      "execution_count": 0,
      "outputs": []
    },
    {
      "metadata": {
        "id": "GhWyhyeJeIqQ",
        "colab_type": "text"
      },
      "cell_type": "markdown",
      "source": [
        "# **Download Data from Kaggle**\n",
        "\n"
      ]
    },
    {
      "metadata": {
        "id": "kfsX5mtQeGOr",
        "colab_type": "code",
        "colab": {}
      },
      "cell_type": "code",
      "source": [
        "if not os.path.isfile('./train.csv') and not os.path.isfile('./test.csv'):\n",
        "  # Install Kaggle API for download competition data\n",
        "  !pip3 install -q kaggle\n",
        "  # enter your Kaggle credentionals here\n",
        "  os.environ['KAGGLE_USERNAME']=\"Your Kaggel User\"\n",
        "  os.environ['KAGGLE_KEY']=\"Your Kaggle Key\"\n",
        "  # If you are unable to download the competition dataset, check to see if you have \n",
        "  # accepted the user agreement on the competition website. \n",
        "  !kaggle competitions download -c microsoft-malware-prediction -q\n",
        "  !unzip test.csv.zip \n",
        "  !unzip train.csv.zip\n",
        "  !chmod 777 *.csv"
      ],
      "execution_count": 0,
      "outputs": []
    },
    {
      "metadata": {
        "id": "RWmN9eWRGcfq",
        "colab_type": "code",
        "colab": {}
      },
      "cell_type": "code",
      "source": [
        "def lines_in_file(file_name):\n",
        "  #returns lines in file\n",
        "  file_len = 0\n",
        "  with open('test.csv','r') as file:\n",
        "    for line in file:\n",
        "      file_len += 1\n",
        "  return file_len"
      ],
      "execution_count": 0,
      "outputs": []
    },
    {
      "metadata": {
        "id": "EE4y1mSO_cm_",
        "colab_type": "code",
        "colab": {}
      },
      "cell_type": "code",
      "source": [
        "def reduce_mem_usage(df, verbose=True):\n",
        "    numerics = ['int16', 'int32', 'int64', 'float16', 'float32', 'float64']\n",
        "    start_mem = df.memory_usage().sum() / 1024**2    \n",
        "    for col in df.columns:\n",
        "        col_type = df[col].dtypes\n",
        "        if col_type in numerics:\n",
        "            c_min = df[col].min()\n",
        "            c_max = df[col].max()\n",
        "            if str(col_type)[:3] == 'int':\n",
        "                if c_min > np.iinfo(np.int8).min and c_max < np.iinfo(np.int8).max:\n",
        "                    df[col] = df[col].astype(np.int8)\n",
        "                elif c_min > np.iinfo(np.int16).min and c_max < np.iinfo(np.int16).max:\n",
        "                    df[col] = df[col].astype(np.int16)\n",
        "                elif c_min > np.iinfo(np.int32).min and c_max < np.iinfo(np.int32).max:\n",
        "                    df[col] = df[col].astype(np.int32)\n",
        "                elif c_min > np.iinfo(np.int64).min and c_max < np.iinfo(np.int64).max:\n",
        "                    df[col] = df[col].astype(np.int64)  \n",
        "            else:\n",
        "                if c_min > np.finfo(np.float16).min and c_max < np.finfo(np.float16).max:\n",
        "                    df[col] = df[col].astype(np.float16)\n",
        "                elif c_min > np.finfo(np.float32).min and c_max < np.finfo(np.float32).max:\n",
        "                    df[col] = df[col].astype(np.float32)\n",
        "                else:\n",
        "                    df[col] = df[col].astype(np.float64)    \n",
        "    end_mem = df.memory_usage().sum() / 1024**2\n",
        "    if verbose: print('Mem. usage decreased to {:5.2f} Mb ({:.1f}% reduction)'.format(end_mem, 100 * (start_mem - end_mem) / start_mem))\n",
        "    return df"
      ],
      "execution_count": 0,
      "outputs": []
    },
    {
      "metadata": {
        "id": "Yc7QRWsHdXXo",
        "colab_type": "code",
        "colab": {}
      },
      "cell_type": "code",
      "source": [
        "#using datatypes so we can load the data instead of letting pandas predict\n",
        "dtypes = {\n",
        "'MachineIdentifier':                                    'category',\n",
        "'ProductName':                                          'category',\n",
        "'EngineVersion':                                        'category',\n",
        "'AppVersion':                                           'category',\n",
        "'AvSigVersion':                                         'category',\n",
        "'IsBeta':                                               'int8',\n",
        "'RtpStateBitfield':                                     'float16',\n",
        "'IsSxsPassiveMode':                                     'int8',\n",
        "'DefaultBrowsersIdentifier':                            'float16',\n",
        "'AVProductStatesIdentifier':                            'float32',\n",
        "'AVProductsInstalled':                                  'float16',    \n",
        "\n",
        "'AVProductsEnabled':                                    'float16',\n",
        "'HasTpm':                                               'int8',\n",
        "'CountryIdentifier':                                    'int16',\n",
        "'CityIdentifier':                                       'float32',\n",
        "'OrganizationIdentifier':                               'float16',\n",
        "'GeoNameIdentifier':                                    'float16',\n",
        "'LocaleEnglishNameIdentifier':                          'int8',\n",
        "'Platform':                                             'category',\n",
        "'Processor':                                            'category',\n",
        "'OsVer':                                                'category',\n",
        "    \n",
        "'OsBuild':                                              'int16',\n",
        "'OsSuite':                                              'int16',\n",
        "'OsPlatformSubRelease':                                 'category',\n",
        "'OsBuildLab':                                           'category',\n",
        "'SkuEdition':                                           'category',\n",
        "'IsProtected':                                          'float16',\n",
        "'AutoSampleOptIn':                                      'int8',\n",
        "'PuaMode':                                              'category',\n",
        "'SMode':                                                'float16',\n",
        "'IeVerIdentifier':                                      'float16',\n",
        "    \n",
        "'SmartScreen':                                          'category',\n",
        "'Firewall':                                             'float16',\n",
        "'UacLuaenable':                                         'float32',\n",
        "'Census_MDC2FormFactor':                                'category',\n",
        "'Census_DeviceFamily':                                  'category',\n",
        "'Census_OEMNameIdentifier':                             'float16',\n",
        "'Census_OEMModelIdentifier':                            'float32',\n",
        "'Census_ProcessorCoreCount':                            'float16',\n",
        "'Census_ProcessorManufacturerIdentifier':               'float16',\n",
        "'Census_ProcessorModelIdentifier':                      'float16',\n",
        "'Census_ProcessorClass':                                'category',\n",
        "'Census_PrimaryDiskTotalCapacity':                      'float32',\n",
        "'Census_PrimaryDiskTypeName':                           'category',\n",
        "'Census_SystemVolumeTotalCapacity':                     'float32',\n",
        "'Census_HasOpticalDiskDrive':                           'int8',\n",
        "'Census_TotalPhysicalRAM':                              'float32',\n",
        "'Census_ChassisTypeName':                               'category',\n",
        "'Census_InternalPrimaryDiagonalDisplaySizeInInches':    'float16',\n",
        "'Census_InternalPrimaryDisplayResolutionHorizontal':    'float16',\n",
        "'Census_InternalPrimaryDisplayResolutionVertical':      'float16',\n",
        "'Census_PowerPlatformRoleName':                         'category',\n",
        "'Census_InternalBatteryType':                           'category',\n",
        "'Census_InternalBatteryNumberOfCharges':                'float32',\n",
        "'Census_OSVersion':                                     'category',\n",
        "'Census_OSArchitecture':                                'category',\n",
        "'Census_OSBranch':                                      'category',\n",
        "'Census_OSBuildNumber':                                 'int16',\n",
        "'Census_OSBuildRevision':                               'int32',\n",
        "'Census_OSEdition':                                     'category',\n",
        "'Census_OSSkuName':                                     'category',\n",
        "'Census_OSInstallTypeName':                             'category',\n",
        "'Census_OSInstallLanguageIdentifier':                   'float16',\n",
        "'Census_OSUILocaleIdentifier':                          'int16',\n",
        "'Census_OSWUAutoUpdateOptionsName':                     'category',\n",
        "'Census_IsPortableOperatingSystem':                     'int8',\n",
        "'Census_GenuineStateName':                              'category',\n",
        "'Census_ActivationChannel':                             'category',\n",
        "'Census_IsFlightingInternal':                           'float16',\n",
        "'Census_IsFlightsDisabled':                             'float16',\n",
        "'Census_FlightRing':                                    'category',\n",
        "'Census_ThresholdOptIn':                                'float16',\n",
        "'Census_FirmwareManufacturerIdentifier':                'float16',\n",
        "'Census_FirmwareVersionIdentifier':                     'float32',\n",
        "'Census_IsSecureBootEnabled':                           'float16',\n",
        "'Census_IsWIMBootEnabled':                              'float16',    \n",
        "'Census_IsVirtualDevice':                               'float16',\n",
        "'Census_IsTouchEnabled':                                'int8',\n",
        "'Census_IsPenCapable':                                  'int8',\n",
        "'Census_IsAlwaysOnAlwaysConnectedCapable':              'float16',\n",
        "'Wdft_IsGamer':                                         'float16',\n",
        "'Wdft_RegionIdentifier':                                'float16',\n",
        "'HasDetections':                                        'int8'\n",
        "}"
      ],
      "execution_count": 0,
      "outputs": []
    },
    {
      "metadata": {
        "id": "CWG1Bz-0x9-f",
        "colab_type": "text"
      },
      "cell_type": "markdown",
      "source": [
        "### Although some columns are int and float but they are still categorical eg. CityIdentifier, CountryIdentifier, So it makes sense to treat all Identifier columns as Categorical"
      ]
    },
    {
      "metadata": {
        "id": "xB00G_1pgRFu",
        "colab_type": "code",
        "colab": {}
      },
      "cell_type": "code",
      "source": [
        "#Features to drop, calculated from feature importance, these are features that have importance < 100\n",
        "feat_lt_100_imp = [\n",
        " #'LocaleEnglishNameIdentifier',\n",
        " 'IsSxsPassiveMode',\n",
        " 'Census_OSArchitecture',\n",
        " 'Platform',\n",
        " #'AVProductsInstalled',1\n",
        " 'RtpStateBitfield',\n",
        " #'Census_IsAlwaysOnAlwaysConnectedCapable',1\n",
        " 'Census_OSWUAutoUpdateOptionsName',\n",
        " 'Census_IsPenCapable',\n",
        " 'Census_OSBranch',\n",
        " 'Census_OSEdition',\n",
        " #'Census_IsVirtualDevice',1\n",
        " 'Census_FlightRing',\n",
        " 'OsBuild',\n",
        " 'Census_ChassisTypeName',\n",
        " 'Census_MDC2FormFactor',\n",
        " 'OrganizationIdentifier',\n",
        " 'Census_PrimaryDiskTypeName',\n",
        " 'Census_ProcessorClass',\n",
        " 'UacLuaenable',\n",
        " 'Census_IsFlightsDisabled',\n",
        " 'SkuEdition',\n",
        " 'ProductName',\n",
        " 'AVProductsEnabled',\n",
        " 'Census_OSBuildNumber',\n",
        " 'Census_OSSkuName',\n",
        " 'OsPlatformSubRelease',\n",
        " 'HasTpm',\n",
        " 'OsSuite',\n",
        " 'Census_ProcessorManufacturerIdentifier',\n",
        " 'Census_InternalBatteryType',\n",
        " 'Census_PowerPlatformRoleName',\n",
        " 'Census_IsPortableOperatingSystem',\n",
        " 'IsBeta',\n",
        " 'Census_DeviceFamily',\n",
        " 'OsVer',\n",
        " 'AutoSampleOptIn',\n",
        " 'MachineIdentifier']\n"
      ],
      "execution_count": 0,
      "outputs": []
    },
    {
      "metadata": {
        "id": "tQuBbPXR6SoN",
        "colab_type": "code",
        "colab": {}
      },
      "cell_type": "code",
      "source": [
        "numerics = ['int8', 'int16', 'int32', 'int64', 'float16', 'float32', 'float64']\n",
        "numerical_columns = [c for c,v in dtypes.items() if v in numerics]\n",
        "categorical_columns = [c for c,v in dtypes.items() if v not in numerics]"
      ],
      "execution_count": 0,
      "outputs": []
    },
    {
      "metadata": {
        "id": "YBwHfZ24d0Sn",
        "colab_type": "code",
        "colab": {}
      },
      "cell_type": "code",
      "source": [
        "categorical_columns.extend(['DefaultBrowsersIdentifier','AVProductStatesIdentifier','CountryIdentifier','CityIdentifier',\n",
        "                            'OrganizationIdentifier','GeoNameIdentifier','LocaleEnglishNameIdentifier','IeVerIdentifier',\n",
        "                            'Census_OEMNameIdentifier','Census_OEMModelIdentifier','Census_ProcessorManufacturerIdentifier',\n",
        "                            'Census_ProcessorModelIdentifier','Census_OSInstallLanguageIdentifier','Census_OSUILocaleIdentifier',\n",
        "                            'Census_FirmwareManufacturerIdentifier','Census_FirmwareVersionIdentifier','Wdft_RegionIdentifier',\n",
        "                            'OsBuild','OsSuite','Census_OSBuildNumber','Census_OSBuildRevision','RtpStateBitfield',\n",
        "                            'Census_OSBuildNumber','Census_OSBuildRevision','AVProductsInstalled','AVProductsEnabled'])\n",
        "#removing PUAMode as this is only a single value\n",
        "categorical_columns.remove('PuaMode')"
      ],
      "execution_count": 0,
      "outputs": []
    },
    {
      "metadata": {
        "id": "Exx1EQY9vcOr",
        "colab_type": "code",
        "colab": {}
      },
      "cell_type": "code",
      "source": [
        "#removing unimportant features from categorical columns\n",
        "#categorical_columns = [c for c in categorical_columns if c not in feat_lt_100_imp]"
      ],
      "execution_count": 0,
      "outputs": []
    },
    {
      "metadata": {
        "id": "pvu0RNoBi3IV",
        "colab_type": "text"
      },
      "cell_type": "markdown",
      "source": [
        "\n",
        "\n",
        "# > **Feature Engineering: Factorizing Categorical Columns**\n",
        "\n",
        "Note: There are columns that have data as float but are still categorical\n",
        "\n"
      ]
    },
    {
      "metadata": {
        "id": "FumP71_mLmUp",
        "colab_type": "code",
        "colab": {}
      },
      "cell_type": "code",
      "source": [
        "# I have initially factorized identifier columns,object type columns before and hence created new columns \n",
        "# with fac_ as a prefix to each column name and later renamed them back to the original column name.\n",
        "# I am now reusing the dictonary created earlier. These columns are identified to be factorized because \n",
        "# these are categorical in nature."
      ],
      "execution_count": 0,
      "outputs": []
    },
    {
      "metadata": {
        "id": "-RB4rjmPe006",
        "colab_type": "code",
        "colab": {}
      },
      "cell_type": "code",
      "source": [
        "#\"fac_MachineIdentifier\":\"MachineIdentifier\",\n",
        "rename_fac_cols = {\n",
        "                   \"fac_ProductName\":\"ProductName\",\n",
        "                   \"fac_EngineVersion\":\"EngineVersion\",\n",
        "                   \"fac_AppVersion\":\"AppVersion\",\n",
        "                   \"fac_AvSigVersion\":\"AvSigVersion\",\n",
        "                   \"fac_Platform\":\"Platform\",\n",
        "                   \"fac_Processor\":\"Processor\",\n",
        "                   \"fac_OsVer\":\"OsVer\",\n",
        "                   \"fac_OsPlatformSubRelease\":\"OsPlatformSubRelease\",\n",
        "                   \"fac_OsBuildLab\":\"OsBuildLab\",\n",
        "                   \"fac_SkuEdition\":\"SkuEdition\",\n",
        "                   \"fac_SmartScreen\":\"SmartScreen\",\n",
        "                   \"fac_Census_MDC2FormFactor\":\"Census_MDC2FormFactor\",\n",
        "                   \"fac_Census_DeviceFamily\":\"Census_DeviceFamily\",\n",
        "                   \"fac_Census_ProcessorClass\":\"Census_ProcessorClass\",\n",
        "                   \"fac_Census_PrimaryDiskTypeName\":\"Census_PrimaryDiskTypeName\",\n",
        "                   \"fac_Census_ChassisTypeName\":\"Census_ChassisTypeName\",\n",
        "                   \"fac_Census_PowerPlatformRoleName\":\"Census_PowerPlatformRoleName\",\n",
        "                   \"fac_Census_InternalBatteryType\":\"Census_InternalBatteryType\",\n",
        "                   \"fac_Census_OSVersion\":\"Census_OSVersion\",\n",
        "                   \"fac_Census_OSArchitecture\":\"Census_OSArchitecture\",\n",
        "                   \"fac_Census_OSBranch\":\"Census_OSBranch\",\n",
        "                   \"fac_Census_OSEdition\":\"Census_OSEdition\",\n",
        "                   \"fac_Census_OSSkuName\":\"Census_OSSkuName\",\n",
        "                   \"fac_Census_OSInstallTypeName\":\"Census_OSInstallTypeName\",\n",
        "                   \"fac_Census_OSWUAutoUpdateOptionsName\":\"Census_OSWUAutoUpdateOptionsName\",\n",
        "                   \"fac_Census_GenuineStateName\":\"Census_GenuineStateName\",\n",
        "                   \"fac_Census_ActivationChannel\":\"Census_ActivationChannel\",\n",
        "                   \"fac_Census_FlightRing\":\"Census_FlightRing\"}"
      ],
      "execution_count": 0,
      "outputs": []
    },
    {
      "metadata": {
        "id": "QNF67JVHAATI",
        "colab_type": "code",
        "colab": {}
      },
      "cell_type": "code",
      "source": [
        "#rename_fac_cols = {k: v for k,v in rename_fac_cols.items() if v in categorical_columns}"
      ],
      "execution_count": 0,
      "outputs": []
    },
    {
      "metadata": {
        "id": "mVrwWq-mcNur",
        "colab_type": "code",
        "colab": {}
      },
      "cell_type": "code",
      "source": [
        "#Label Encoder \n",
        "#This is done seperately for memory management purposes so that all columns can be used in training the model\n",
        "from sklearn import preprocessing\n",
        "\n",
        "tot_train_rows = lines_in_file('train.csv')\n",
        "tot_test_rows = lines_in_file('test.csv')\n",
        "skip_rows = 1\n",
        "chunk_size = tot_train_rows\n",
        "encoder_list = []\n",
        "fillna_val_by_feature = {}\n",
        "\n",
        "le = preprocessing.LabelEncoder()\n",
        "\n",
        "data = pd.read_csv('train.csv',nrows=chunk_size,skiprows=range(1,skip_rows),dtype=dtypes)\n",
        "data = reduce_mem_usage(data)\n",
        "\n",
        "#dropping PuaMode and MachineIdentifier columns\n",
        "data.drop(labels=['PuaMode'],axis=1,inplace=True)\n",
        "#data.drop(labels=['MachineIdentifier'],axis=1,inplace=True)\n",
        "  \n",
        "data2 = pd.read_csv('test.csv',nrows=tot_test_rows,skiprows=range(1,skip_rows),dtype=dtypes)\n",
        "data2 = reduce_mem_usage(data2)\n",
        "\n",
        "#inverting my factorized col dictionary created so i can use the col_names to get the factorized col names as dictionary\n",
        "inv_fac_col_dict = {value: key for key, value in rename_fac_cols.items()}\n",
        "\n",
        "for fac_col in rename_fac_cols.values():\n",
        "  #if fac_col == 'MachineIdentifier' : continue #factorizing machineidentifier column as well because lgb requires all features to be numeric\n",
        "  new_fac_col = inv_fac_col_dict[fac_col]\n",
        "    \n",
        "  #data[new_fac_col], uniq_values = pd.factorize(data[fac_col],na_sentinel=-1)\n",
        "  #d1 = data[fac_col].unique().tolist()\n",
        "  #d2 = data2[fac_col].unique().tolist()\n",
        "  #d1 = d1.extend(d2)\n",
        "  encoder_list.extend(data[fac_col].unique().tolist())\n",
        "  encoder_list.extend(data2[fac_col].unique().tolist())\n",
        "  fillna_val_by_feature[fac_col] = data[fac_col].value_counts().keys()[0]\n",
        "  \n",
        "  \n",
        "le.fit(encoder_list)\n",
        "  \n",
        "#Resetting\n",
        "data2 = pd.DataFrame()\n",
        "d1 = []\n",
        "d2 = []\n",
        "encoder_list = []\n",
        "gc.collect()\n",
        "  \n"
      ],
      "execution_count": 0,
      "outputs": []
    },
    {
      "metadata": {
        "id": "yXyObPcglDqK",
        "colab_type": "text"
      },
      "cell_type": "markdown",
      "source": [
        "# Create Train, Test Split and Train the model"
      ]
    },
    {
      "metadata": {
        "id": "NBltrwCJudWG",
        "colab_type": "code",
        "colab": {}
      },
      "cell_type": "code",
      "source": [
        "#'max_depth':'11',\n",
        "#max_bin:'31'\n",
        "#lambda_l2:'0.4'\n",
        "params = {'num_leaves':'200',\n",
        "          'boosting_type':'gbdt',\n",
        "          'objective':'binary',\n",
        "          'num_trees':'200',\n",
        "          'metric':'auc',\n",
        "          'num_threads':'1',\n",
        "          'device_type':'cpu',\n",
        "          'max_bin':'65',\n",
        "          'seed':'42',\n",
        "          'max_depth':'6',#previous value 11\n",
        "          'bagging_fraction':'0.897',\n",
        "          'bagging_freq':'1', #previous value is 4\n",
        "          'bagging_seed':'10',\n",
        "          'feature_fraction':'0.66',\n",
        "          'lambda_l1':'0.1',\n",
        "          'lambda_l2':'0.1', #Added newly\n",
        "          'num_boost_round':'1000',\n",
        "          'early_stopping_round':'200'}"
      ],
      "execution_count": 0,
      "outputs": []
    },
    {
      "metadata": {
        "id": "NfjE5vA-djNK",
        "colab_type": "text"
      },
      "cell_type": "markdown",
      "source": [
        "\n",
        "\n",
        "1.   Best iteration is: [35]\tvalid_0's auc: 0.697111\n",
        "2.   Best iteration is: [37]\tvalid_0's auc: 0.697268\n",
        "3.   Best iteration is: [33]\tvalid_0's auc: 0.698462 with feature fraction = 0.7\n",
        "4.  Best iteration is: [41]\t  valid_0's auc: 0.698692 with feature fraction = 0.6\n",
        "5.  Best iteration is: [41]\t  valid_0's auc: 0.69909 with feature fraction = 0.65\n",
        "6.  Best iteration is: [41]\t  valid_0's auc: 0.699402 with feature fraction = 0.66, Bagging_Seed=13\n",
        "7. Best iteration is: [41] valid_0's auc: 0.699744 with feature fraction = 0.66, Bagging_Seed=10\n",
        "8. Best iteration is: [41] valid_0's auc: 0.699955 with feature fraction = 0.66, Bagging_Seed=10, Bagging_Fraction = 0.8, Bagging_Freq = 2\n",
        "\n",
        "9.   Best iteration is: [41] valid_0's auc: 0.700314 with feature fraction = 0.66, Bagging_Seed=10, Bagging_Fraction = 0.857, Bagging_Freq = 3\n",
        "2.   Best iteration is: [44] valid_0's auc: 0.700776 with feature fraction = 0.66, Bagging_Seed=10, Bagging_Fraction = 0.89, Bagging_Freq = 3\n",
        "\n",
        "\n",
        "11.   Best iteration is: [41] valid_0's auc: 0.701124 with feature fraction = 0.66, Bagging_Seed=10, Bagging_Fraction = 0.897, Bagging_Freq = 4\n",
        "12.   Changing the data types to the appropriate types also increased the AUC score to 0.701542\n",
        "\n",
        "\n",
        "\n",
        "\n",
        "\n",
        "\n"
      ]
    },
    {
      "metadata": {
        "id": "wao1oxtDcEl-",
        "colab_type": "code",
        "colab": {}
      },
      "cell_type": "code",
      "source": [
        "from sklearn import model_selection\n",
        "\n",
        "while skip_rows <= tot_train_rows:\n",
        "  \n",
        "  #dropping puamode column as it has only 1 value\n",
        "  #data.drop(labels=['PuaMode'],axis=1,inplace=True)\n",
        "\n",
        "  #dropping columns that has importance less than 100\n",
        "  #data.drop(labels=feat_lt_100_imp,axis=1,inplace=True) #Next best option to not pull these columns in \n",
        "  #data2.drop(labels=feat_lt_100_imp,axis=1,inplace=True)\n",
        "  \n",
        "  #inverting my factorized col dictionary created so i can use the col_names to get the factorized col names as dictionary\n",
        "  inv_fac_col_dict = {value: key for key, value in rename_fac_cols.items()}\n",
        "\n",
        "  for fac_col in rename_fac_cols.values():\n",
        "    #if fac_col == 'MachineIdentifier' : continue #factorizing machineidentifier column as well because lgb requires all features to be numeric\n",
        "    #print(fac_col)\n",
        "    new_fac_col = inv_fac_col_dict[fac_col]\n",
        "    \n",
        "    #fillna\n",
        "    data[fac_col].fillna(data[fac_col].value_counts().keys()[0],inplace=True)\n",
        "   \n",
        "    data[new_fac_col] = le.transform(data[fac_col])\n",
        "\n",
        "    data.drop(labels=fac_col,axis=1,inplace=True) #dropping the old factorized column and retaining the new one\n",
        "    \n",
        "  \n",
        "  #rename the columns after label transforming  \n",
        "  data.rename(mapper=rename_fac_cols,axis=1,inplace=True)\n",
        "  \n",
        "  #Reducing memory to fit all columns and performing mem reduction after Label Encoding\n",
        "  data = reduce_mem_usage(data)\n",
        "\n",
        "  #train_test_split\n",
        "  X_train, X_test, y_train, y_test = model_selection.train_test_split(\n",
        "                                                   data.drop(labels='HasDetections',axis=1),\n",
        "                                                   data['HasDetections'],\n",
        "                                                   test_size=0.15, #testsize=0.25 earlier\n",
        "                                                   random_state=42,\n",
        "                                                   shuffle=True,\n",
        "                                                   stratify=data['HasDetections'])\n",
        "  #introduced for memory management\n",
        "  data = pd.DataFrame()\n",
        "  #data2 = pd.DataFrame()\n",
        "  \n",
        "  y_train = y_train.to_frame()\n",
        "  y_test = y_test.to_frame()\n",
        "  col_names = X_train.columns.tolist()\n",
        "  \n",
        "  \n",
        "  #train_data for lgb\n",
        "  train_data = lgb.Dataset(X_train,label=y_train['HasDetections'],\n",
        "                         feature_name=col_names,\n",
        "                         categorical_feature=categorical_columns,\n",
        "                         free_raw_data=False)\n",
        "  #Memory Management\n",
        "  X_train = pd.DataFrame()\n",
        "  y_train = pd.DataFrame()\n",
        "  \n",
        "  #test_data for lgb\n",
        "  test_data = lgb.Dataset(X_test,label=y_test['HasDetections'],\n",
        "                         feature_name=col_names,\n",
        "                         categorical_feature=categorical_columns,\n",
        "                         free_raw_data=False)\n",
        "  #Memory Management\n",
        "  X_test = pd.DataFrame()\n",
        "  y_test = pd.DataFrame()\n",
        "  \n",
        "  #garbage_collect\n",
        "  gc.collect()\n",
        "  \n",
        "  #train_model\n",
        "  num_round = 10000\n",
        "  model = lgb.train(params,train_data,num_round,valid_sets=[test_data])\n",
        "  \n",
        "  skip_rows += chunk_size\n",
        "  \n",
        "#Releasing memory\n",
        "train_data = ''\n",
        "test_data = ''\n",
        "gc.collect()\n"
      ],
      "execution_count": 0,
      "outputs": []
    },
    {
      "metadata": {
        "id": "9q5lAZBvdkIx",
        "colab_type": "text"
      },
      "cell_type": "markdown",
      "source": [
        "\n",
        "\n",
        "# **> Predict on Validation/Production Dataset**\n",
        "\n"
      ]
    },
    {
      "metadata": {
        "id": "OxLZ3NQuj4sJ",
        "colab_type": "code",
        "colab": {}
      },
      "cell_type": "code",
      "source": [
        "#Prediction and generating submission file\n",
        "!rm submit.csv\n",
        "submission = pd.DataFrame()\n",
        "\n",
        "tot_test_rows = lines_in_file('test.csv')\n",
        "skip_rows = 1\n",
        "chunk_size = 500000\n",
        "\n",
        "while skip_rows <= tot_test_rows:\n",
        "  data2 = pd.read_csv('test.csv',nrows=chunk_size,skiprows=range(1,skip_rows),dtype=dtypes)\n",
        "  data2 = reduce_mem_usage(data2)\n",
        "  \n",
        "  submission = pd.DataFrame()\n",
        "\n",
        "  submission['MachineIdentifier'] = data2['MachineIdentifier']\n",
        "\n",
        "  data2.drop(labels=['PuaMode'],axis=1,inplace=True)\n",
        "\n",
        "  for fac_col in rename_fac_cols.values():\n",
        "    new_fac_col = inv_fac_col_dict[fac_col]\n",
        "\n",
        "    #fillna\n",
        "    #print(fac_col)\n",
        "    fna_val = fillna_val_by_feature.get(fac_col)\n",
        "    data2[fac_col].fillna(fna_val,inplace=True)\n",
        "    #data2[fac_col].fillna(data2[fac_col].value_counts().keys()[0],inplace=True)\n",
        "\n",
        "    #transforming data using label encoder\n",
        "    data2[new_fac_col] = le.transform(data2[fac_col])\n",
        "\n",
        "    #dropping transformed columns and retaining encoded columns\n",
        "    data2.drop(labels=fac_col,axis=1,inplace=True)\n",
        "\n",
        "  #renaming column names of encoded columns  \n",
        "  data2.rename(mapper=rename_fac_cols,axis=1,inplace=True)\n",
        "\n",
        "  #reducing memory after transforming using label Encoder\n",
        "  data2 = reduce_mem_usage(data2)\n",
        "\n",
        "  #Predict  \n",
        "  submission['HasDetections'] = model.predict(data2,num_iteration=model.best_iteration)\n",
        "  \n",
        "  #save results\n",
        "  if skip_rows == 1:\n",
        "    submission.to_csv('submit.csv',mode='w',index=False)\n",
        "  else:\n",
        "    submission.to_csv('submit.csv',mode='a',index=False,header=False)\n",
        "  submission = submission.drop(labels=['MachineIdentifier','HasDetections'],axis=1,inplace=True)\n",
        "  \n",
        "  #incrementing lines to be read in the next loop\n",
        "  skip_rows += chunk_size\n"
      ],
      "execution_count": 0,
      "outputs": []
    },
    {
      "metadata": {
        "id": "81B22vqRnPGm",
        "colab_type": "text"
      },
      "cell_type": "markdown",
      "source": [
        "\n",
        "# > Download & Submit Submission File to Kaggle\n",
        "\n"
      ]
    },
    {
      "metadata": {
        "id": "SgdoHDKMqUM0",
        "colab_type": "code",
        "colab": {}
      },
      "cell_type": "code",
      "source": [
        "!pip3 install -q kaggle\n",
        "  # enter your Kaggle credentionals here\n",
        "os.environ['KAGGLE_USERNAME']=\"vijaygopu\"\n",
        "os.environ['KAGGLE_KEY']=\"6be506f7edd4deb262d9721e2d02d11f\"\n",
        "!kaggle competitions submit -c microsoft-malware-prediction -f submit.csv -m RevertedL1L2Values"
      ],
      "execution_count": 0,
      "outputs": []
    },
    {
      "metadata": {
        "id": "RTh4lPMZTXAK",
        "colab_type": "code",
        "colab": {}
      },
      "cell_type": "code",
      "source": [
        "df_feat_imp = pd.DataFrame() \n",
        "df_feat_imp['Feature_Importance'] = model.feature_importance()\n",
        "df_feat_imp['Feature'] = data2.columns"
      ],
      "execution_count": 0,
      "outputs": []
    },
    {
      "metadata": {
        "id": "_XZswUf6ku4b",
        "colab_type": "code",
        "colab": {}
      },
      "cell_type": "code",
      "source": [
        "df_feat_imp.sort_values(by='Feature_Importance',ascending=False)"
      ],
      "execution_count": 0,
      "outputs": []
    },
    {
      "metadata": {
        "id": "MnRifvtC-Kg4",
        "colab_type": "code",
        "colab": {}
      },
      "cell_type": "code",
      "source": [
        "df_imp_feat = df_feat_imp[df_feat_imp.Feature_Importance < 100].sort_values(by=['Feature_Importance'],ascending=False)"
      ],
      "execution_count": 0,
      "outputs": []
    },
    {
      "metadata": {
        "id": "sS44mM7eBg0E",
        "colab_type": "code",
        "colab": {}
      },
      "cell_type": "code",
      "source": [
        "feat_lt_100 = df_imp_feat['Feature'].tolist()"
      ],
      "execution_count": 0,
      "outputs": []
    },
    {
      "metadata": {
        "id": "LAqoxJesflUI",
        "colab_type": "code",
        "colab": {}
      },
      "cell_type": "code",
      "source": [
        "feat_lt_100.remove('MachineIdentifier')"
      ],
      "execution_count": 0,
      "outputs": []
    },
    {
      "metadata": {
        "id": "438HVb19gFEV",
        "colab_type": "code",
        "colab": {}
      },
      "cell_type": "code",
      "source": [
        "feat_lt_100"
      ],
      "execution_count": 0,
      "outputs": []
    },
    {
      "metadata": {
        "id": "4VW8UL0jNM1H",
        "colab_type": "code",
        "colab": {}
      },
      "cell_type": "code",
      "source": [
        "model.best_score"
      ],
      "execution_count": 0,
      "outputs": []
    },
    {
      "metadata": {
        "id": "w2ikChbuScux",
        "colab_type": "code",
        "colab": {}
      },
      "cell_type": "code",
      "source": [
        "#predict[:5]"
      ],
      "execution_count": 0,
      "outputs": []
    },
    {
      "metadata": {
        "id": "WG8DrBKibvXw",
        "colab_type": "code",
        "colab": {}
      },
      "cell_type": "code",
      "source": [
        "y_test.head(5)"
      ],
      "execution_count": 0,
      "outputs": []
    },
    {
      "metadata": {
        "id": "DLPWCftq2dAT",
        "colab_type": "code",
        "colab": {}
      },
      "cell_type": "code",
      "source": [
        "gc.collect()"
      ],
      "execution_count": 0,
      "outputs": []
    },
    {
      "metadata": {
        "id": "k7nXCKAQRDBf",
        "colab_type": "code",
        "colab": {}
      },
      "cell_type": "code",
      "source": [
        "!ls -ltr"
      ],
      "execution_count": 0,
      "outputs": []
    },
    {
      "metadata": {
        "id": "1TPoTI4NNFtD",
        "colab_type": "text"
      },
      "cell_type": "markdown",
      "source": [
        "# **GridSearchCV Results**\n",
        "\n",
        "**param_grid={'learning_rate': [0.1, 0.01, 0.05], 'n_estimators': [40, 200], 'cv': [3, 7], 'num_leaves': [7, 15, 40]}**\n",
        "\n",
        "GridSearchCV(cv='warn', error_score='raise-deprecating',\n",
        "       estimator=LGBMClassifier(boosting_type='gbdt', class_weight=None, colsample_bytree=1.0,\n",
        "        importance_type='split', learning_rate=0.05, max_depth=-1,\n",
        "        min_child_samples=20, min_child_weight=0.001, min_split_gain=0.0,\n",
        "        n_estimators=100, n_jobs=3, num_leaves=31, objective='binary',\n",
        "        random_state=42, reg_alpha=5, reg_lambda=10, silent=True,\n",
        "        subsample=1.0, subsample_for_bin=200000, subsample_freq=0),\n",
        "       fit_params=None, iid='warn', n_jobs=3,\n",
        "       param_grid={'learning_rate': [0.1, 0.01, 0.05], 'n_estimators': [40, 200], 'cv': [3, 7], 'num_leaves': [7, 15, 40]},\n",
        "       pre_dispatch='2*n_jobs', refit=True, return_train_score='warn',\n",
        "       scoring='roc_auc', verbose=0)"
      ]
    },
    {
      "metadata": {
        "id": "85tgdgFqe0Lh",
        "colab_type": "code",
        "colab": {}
      },
      "cell_type": "code",
      "source": [
        "tune_model = lgb.LGBMClassifier(boosting_type = 'gbdt',\n",
        "                           #num_leaves = 80,\n",
        "                           max_depth = -1,\n",
        "                           learning_rate = 0.05,\n",
        "                           #n_estimators = 100,\n",
        "                           objective = 'binary',\n",
        "                           random_state = 42,\n",
        "                           reg_alpha = 5,\n",
        "                           reg_lambda = 10,\n",
        "                           n_jobs=3)"
      ],
      "execution_count": 0,
      "outputs": []
    },
    {
      "metadata": {
        "id": "Aar2ItjtynPx",
        "colab_type": "code",
        "colab": {}
      },
      "cell_type": "code",
      "source": [
        "params_grid = {\n",
        "    'learning_rate': [0.04,0.05,0.06],\n",
        "    'n_estimators': [40,200],\n",
        "    'cv':[5,7],\n",
        "    'num_leaves':[7,15,40]\n",
        "    }"
      ],
      "execution_count": 0,
      "outputs": []
    },
    {
      "metadata": {
        "id": "gmM_qfNvez4f",
        "colab_type": "code",
        "colab": {}
      },
      "cell_type": "code",
      "source": [
        "tune_model = model_selection.GridSearchCV(tune_model,scoring='roc_auc',n_jobs=3,param_grid=params_grid)"
      ],
      "execution_count": 0,
      "outputs": []
    },
    {
      "metadata": {
        "id": "LKqWQlTT2FKi",
        "colab_type": "code",
        "colab": {}
      },
      "cell_type": "code",
      "source": [
        "tune_model.fit(X_train.drop(labels='HasDetections',axis=1),X_train['HasDetections'])"
      ],
      "execution_count": 0,
      "outputs": []
    },
    {
      "metadata": {
        "id": "Qpkwg-pP9nOF",
        "colab_type": "code",
        "colab": {}
      },
      "cell_type": "code",
      "source": [
        "feature_importances = tune_model.best_estimator_.feature_importances_"
      ],
      "execution_count": 0,
      "outputs": []
    },
    {
      "metadata": {
        "id": "rJJjVVD_-hb_",
        "colab_type": "code",
        "colab": {}
      },
      "cell_type": "code",
      "source": [
        "data.columns"
      ],
      "execution_count": 0,
      "outputs": []
    }
  ]
}